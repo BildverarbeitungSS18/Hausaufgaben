{
 "cells": [
  {
   "cell_type": "markdown",
   "metadata": {},
   "source": [
    "# Image Processing SS 18 - Assignment - 01\n",
    "\n",
    "### Deadline is 25.4.2018 at 8:00\n",
    "\n",
    "Please solve the assignments together with a partner.\n",
    "I will run every notebook. Make sure the code runs through, when clicked on `Kernel` -> `Restart & Run All`.\n"
   ]
  },
  {
   "cell_type": "markdown",
   "metadata": {},
   "source": [
    "## Introduction to Python / Numpy\n",
    "\n",
    "* [Learn Python in 15 minutes](https://learnxinyminutes.com/docs/python3/): We will use Python 3.\n",
    "* [Numpy for Matlab Users](https://docs.scipy.org/doc/numpy-dev/user/numpy-for-matlab-users.html#general-purpose-equivalents)\n",
    "* [Numpy Quickstart](https://docs.scipy.org/doc/numpy-dev/user/quickstart.html)\n",
    "\n",
    "## Libraries\n",
    "\n",
    "We will use the following libraries:\n",
    "\n",
    "* matplotlib\n",
    "* numpy\n",
    "* scipy\n",
    "* skimage\n"
   ]
  },
  {
   "cell_type": "markdown",
   "metadata": {},
   "source": [
    "# Exercise 0 - Setup Development Enviroment - [1 Point]\n",
    "\n",
    "Find a partner, follow the steps in the [README](https://github.com/BildverarbeitungSS18/Hausaufgaben/blob/master/README.md) and paste a link to your repository, names and matriculation numbers into the KVV assignment box.\n",
    "You do not need to upload any files to the KVV. I will clone your repository. "
   ]
  },
  {
   "cell_type": "code",
   "execution_count": null,
   "metadata": {},
   "outputs": [],
   "source": [
    "# display the plots inside the notebook\n",
    "%matplotlib inline"
   ]
  },
  {
   "cell_type": "code",
   "execution_count": null,
   "metadata": {},
   "outputs": [],
   "source": [
    "import numpy as np\n",
    "import matplotlib.pyplot as plt\n",
    "import pylab\n",
    "pylab.rcParams['figure.figsize'] = (12, 12)   # This makes the plot bigger"
   ]
  },
  {
   "cell_type": "markdown",
   "metadata": {},
   "source": [
    "The [skimage](http://scikit-image.org/) library comes with multiple useful test images.  Let's start with an image of an astronaut. "
   ]
  },
  {
   "cell_type": "code",
   "execution_count": null,
   "metadata": {},
   "outputs": [],
   "source": [
    "from skimage.data import astronaut"
   ]
  },
  {
   "cell_type": "code",
   "execution_count": null,
   "metadata": {},
   "outputs": [],
   "source": [
    "img = astronaut()   # Get the image\n",
    "print(img.shape)    # the dimension of the image\n",
    "print(img.dtype)    # the image type"
   ]
  },
  {
   "cell_type": "markdown",
   "metadata": {},
   "source": [
    "We have a `(512, 512, 3)` array of unsigned bytes. At `img[x, y]` there are three values for R,G and B."
   ]
  },
  {
   "cell_type": "markdown",
   "metadata": {},
   "source": [
    "We will always work with floating point arrays between 0 and 1. "
   ]
  },
  {
   "cell_type": "code",
   "execution_count": null,
   "metadata": {},
   "outputs": [],
   "source": [
    "img = img / 255."
   ]
  },
  {
   "cell_type": "markdown",
   "metadata": {},
   "source": [
    "Lets display the image."
   ]
  },
  {
   "cell_type": "code",
   "execution_count": null,
   "metadata": {},
   "outputs": [],
   "source": [
    "plt.imshow(img)\n",
    "plt.show()"
   ]
  },
  {
   "cell_type": "markdown",
   "metadata": {},
   "source": [
    "This is [Eileen Collins](https://en.wikipedia.org/wiki/Eileen_Collins). She was the first astronaut \n",
    " to fly the Space Shuttle through a complete 360-degree pitch maneuver. What an inspiring woman."
   ]
  },
  {
   "cell_type": "markdown",
   "metadata": {},
   "source": [
    "## Exercise 1 - Plot -       [1 Point]\n",
    "\n",
    "Plot the R, G and B channels separately."
   ]
  },
  {
   "cell_type": "code",
   "execution_count": null,
   "metadata": {
    "scrolled": false
   },
   "outputs": [],
   "source": [
    "# Your code here\n",
    "plt.figure(num='astronaut',figsize=(8,8))\n",
    "plt.subplot(2,2,1)                   #divide the window into 2*2=4 supplots\n",
    "plt.title('origin image') \n",
    "plt.imshow(img)     \n",
    "\n",
    "plt.subplot(2,2,2)                   #the second supplot \n",
    "plt.title('R channel')  \n",
    "plt.imshow(img[:,:,0],plt.cm.gray)   #draw the second plot in R channel with a grayscale  \n",
    "plt.axis('off')                      #do not display coordinate size\n",
    "\n",
    "plt.subplot(2,2,3)                   #the third supplot \n",
    "plt.title('G channel')               #draw the third plot in G channel with a grayscale \n",
    "plt.imshow(img[:,:,1],plt.cm.gray)     \n",
    "plt.axis('off')    \n",
    "\n",
    "plt.subplot(2,2,4)                   #the fourth supplot\n",
    "plt.title('B channel')  \n",
    "plt.imshow(img[:,:,2],plt.cm.gray)   #draw the fourth plot in B channel with a grayscale    \n",
    "plt.axis('off')       \n",
    "\n",
    "plt.show()  "
   ]
  },
  {
   "cell_type": "markdown",
   "metadata": {},
   "source": [
    "\n",
    "\n",
    "## Exercise 2 - RGB to HSV [6 Points]\n",
    "\n",
    "Implement the `rgb_to_hsv` and `hsv_to_rgb` functions. Don't use any color conversion functions from a library.\n"
   ]
  },
  {
   "cell_type": "code",
   "execution_count": null,
   "metadata": {},
   "outputs": [],
   "source": [
    "import math"
   ]
  },
  {
   "cell_type": "code",
   "execution_count": null,
   "metadata": {},
   "outputs": [],
   "source": [
    "def rgb_to_hsv(x):\n",
    "    \"\"\"\n",
    "    Converts the numpy array `x` from RGB to the HSV. \n",
    "    \"\"\"\n",
    "    # Your code here\n",
    "    row=x.shape[0]\n",
    "    col=x.shape[1]\n",
    "    r =np.zeros((row,col),dtype = x.dtype)\n",
    "    g =np.zeros((row,col),dtype = x.dtype)\n",
    "    b =np.zeros((row,col),dtype = x.dtype)\n",
    "    mx=np.zeros((row,col),dtype = x.dtype)\n",
    "    mn=np.zeros((row,col),dtype = x.dtype)\n",
    "    df=np.zeros((row,col),dtype = x.dtype)\n",
    "    h =np.zeros((row,col),dtype = x.dtype)\n",
    "    s =np.zeros((row,col),dtype = x.dtype)\n",
    "    v =np.zeros((row,col),dtype = x.dtype)\n",
    "    \n",
    "    #Channel separation\n",
    "    r[:,:]=x[:,:,0]\n",
    "    g[:,:]=x[:,:,1]\n",
    "    b[:,:]=x[:,:,2]\n",
    "    \n",
    "    #rgb to hsv\n",
    "    for i in range(row):\n",
    "        for j in range(col):\n",
    "            mx[i,j] = max(r[i,j],g[i,j],b[i,j])\n",
    "            mn[i,j] = min(r[i,j],g[i,j],b[i,j])\n",
    "    df=mx-mn\n",
    "    for i in range(row):\n",
    "        for j in range(col):\n",
    "            if mx[i,j] == mn[i,j]:\n",
    "                h[i,j]=0\n",
    "            elif mx[i,j] == r[i,j]:\n",
    "                h[i,j] = (60 * ((g[i,j]-b[i,j])/df[i,j]) + 360) % 360\n",
    "            elif mx[i,j] == g[i,j]:\n",
    "                h[i,j] = (60 * ((b[i,j]-r[i,j])/df[i,j]) + 120) % 360\n",
    "            elif mx[i,j] == b[i,j]:\n",
    "                h[i,j] = (60 * ((r[i,j]-g[i,j])/df[i,j]) + 240) % 360 \n",
    "            if mx[i,j] == 0:\n",
    "                s[i,j]=0\n",
    "            else:\n",
    "                s[i,j]= df[i,j]/mx[i,j]\n",
    "            v[i,j]=mx[i,j]\n",
    "            \n",
    "    #Channel merger\n",
    "    x=np.dstack([h,s,v])\n",
    "    return x"
   ]
  },
  {
   "cell_type": "code",
   "execution_count": null,
   "metadata": {},
   "outputs": [],
   "source": [
    "def hsv_to_rgb(x):\n",
    "    \"\"\"\n",
    "    Converts the numpy array `x` from HSV to the RGB. \n",
    "    \"\"\"\n",
    "    # Your code here\n",
    "    row=x.shape[0]\n",
    "    col=x.shape[1]\n",
    "    h = np.zeros((row,col),dtype=float)\n",
    "    s = np.zeros((row,col),dtype=float)\n",
    "    v = np.zeros((row,col),dtype=float)\n",
    "    h60 = np.zeros((row,col),dtype=float)\n",
    "    h60f = np.zeros((row,col),dtype=float)\n",
    "    hi = np.zeros((row,col),dtype=float)\n",
    "    f = np.zeros((row,col),dtype=float)\n",
    "    p = np.zeros((row,col),dtype=float)\n",
    "    q = np.zeros((row,col),dtype=float)\n",
    "    t = np.zeros((row,col),dtype=float)\n",
    "    r = np.zeros((row,col),dtype=float)\n",
    "    g = np.zeros((row,col),dtype=float)\n",
    "    b = np.zeros((row,col),dtype=float)\n",
    "    \n",
    "    #Channel separation\n",
    "    h[:,:]=x[:,:,0]\n",
    "    s[:,:]=x[:,:,1]\n",
    "    v[:,:]=x[:,:,2]\n",
    "    \n",
    "    #hsv to rgb\n",
    "    h60=h/60.0\n",
    "    for i in range(row):\n",
    "        for j in range(col):\n",
    "            h60f[i,j] = math.floor(h60[i,j])\n",
    "            hi[i,j] = int(h60f[i,j]) % 6\n",
    "            f[i,j] = h60[i,j] - h60f[i,j]\n",
    "            p[i,j] = v[i,j] * (1 - s[i,j])\n",
    "            q[i,j] = v[i,j] * (1 - f[i,j] * s[i,j])\n",
    "            t[i,j] = v[i,j] * (1 - (1 - f[i,j]) * s[i,j])\n",
    "            if hi[i,j] == 0: r[i,j], g[i,j], b[i,j] = v[i,j], t[i,j], p[i,j]\n",
    "            elif hi[i,j] == 1: r[i,j], g[i,j], b[i,j] = q[i,j], v[i,j], p[i,j]\n",
    "            elif hi[i,j] == 2: r[i,j], g[i,j], b[i,j] = p[i,j], v[i,j], t[i,j]\n",
    "            elif hi[i,j] == 3: r[i,j], g[i,j], b[i,j] = p[i,j], q[i,j], v[i,j]\n",
    "            elif hi[i,j] == 4: r[i,j], g[i,j], b[i,j] = t[i,j], p[i,j], v[i,j]\n",
    "            elif hi[i,j] == 5: r[i,j], g[i,j], b[i,j] = v[i,j], p[i,j], q[i,j]\n",
    "       \n",
    "    #Channel merger\n",
    "    x=np.dstack([r,g,b])\n",
    "    return x"
   ]
  },
  {
   "cell_type": "markdown",
   "metadata": {},
   "source": [
    "Plot the saturation of the astronaut image"
   ]
  },
  {
   "cell_type": "code",
   "execution_count": null,
   "metadata": {
    "scrolled": false
   },
   "outputs": [],
   "source": [
    "img_as_hsv = rgb_to_hsv(img)\n",
    "# your code\n",
    "plt.imshow(img_as_hsv[:,:,1]) #Plot the saturation of the hsv image\n",
    "plt.show()"
   ]
  },
  {
   "cell_type": "markdown",
   "metadata": {},
   "source": [
    "Increase the saturation by a factor of 2, convert it back to RGB and plot the result."
   ]
  },
  {
   "cell_type": "code",
   "execution_count": null,
   "metadata": {
    "scrolled": false
   },
   "outputs": [],
   "source": [
    "# your code\n",
    "def s_factor(im,x):\n",
    "    '''Increase the saturation of 'im' by a factor of 'x' '''\n",
    "    h,s,v = np.dsplit(im,3)     #Channel separation\n",
    "    \n",
    "    for i in range(im.shape[0]):\n",
    "        for j in range(im.shape[1]):\n",
    "            s[i,j] *= float(x)\n",
    "            if s[i,j] > 1.:     # the value of saturation is [0.0,1.0]\n",
    "                s[i,j]=1.  \n",
    "    im=np.dstack([h,s,v])\n",
    "    return im\n",
    "\n",
    "img_as_rgb = hsv_to_rgb(s_factor(img_as_hsv,2))\n",
    "plt.imshow(img_as_rgb)\n",
    "plt.show()"
   ]
  },
  {
   "cell_type": "markdown",
   "metadata": {},
   "source": [
    "## Exercise 3 - Callculation [2 Points]\n",
    "\n",
    "In the figure below you can see the [CIE-XYZ](https://de.wikipedia.org/wiki/CIE-Normvalenzsystem) color space.\n",
    "![](https://upload.wikimedia.org/wikipedia/commons/4/49/CIE-Normfarbtafel.png)\n",
    "\n",
    "What are the approximate x,y,z values for the following Adobe RGB colors:\n",
    "* `(0, 0.5, 0.5)` \n",
    "* `(0.33, 0.33, 0.33)`\n",
    "\n",
    "A sodium-vapor lamp shines with double the intensity of a mercury-vapor lamp\n",
    ". The light from the sodium lamp only contains \n",
    "the spectral line at `589,00nm` and the light from the mercury lamp only the\n",
    "spectral line at `435,83 nm`.\n",
    "\n",
    "What color does a human experience? What are the approximate x,y,z values? \n"
   ]
  },
  {
   "cell_type": "markdown",
   "metadata": {},
   "source": [
    "### Lösung："
   ]
  },
  {
   "cell_type": "markdown",
   "metadata": {},
   "source": [
    "\n",
    "1、The approximate x,y,z values for the following Adobe RGB colors：           \n",
    "`(0, 0.5, 0.5)`   -> `(8.07，15.17，22.93)`      \n",
    "`(0.33, 0.33, 0.33)`  -> `(8.48，8.93，9.72)`\n",
    "\n",
    "2、A Human experiences the spectrum`380,00nm`~`760nm`."
   ]
  }
 ],
 "metadata": {
  "kernelspec": {
   "display_name": "Python 3",
   "language": "python",
   "name": "python3"
  },
  "language_info": {
   "codemirror_mode": {
    "name": "ipython",
    "version": 3
   },
   "file_extension": ".py",
   "mimetype": "text/x-python",
   "name": "python",
   "nbconvert_exporter": "python",
   "pygments_lexer": "ipython3",
   "version": "3.6.4"
  }
 },
 "nbformat": 4,
 "nbformat_minor": 1
}
