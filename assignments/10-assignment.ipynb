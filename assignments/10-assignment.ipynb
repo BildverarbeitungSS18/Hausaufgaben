{
 "cells": [
  {
   "cell_type": "markdown",
   "metadata": {
    "collapsed": true
   },
   "source": [
    "# Image Processing SS 18 - Assignment - 10\n",
    "\n",
    "### Deadline is 27.06.2016 at 8:00 a.m. \n",
    "\n",
    "Please solve the assignments together with a partner.\n",
    "I will run every notebook. Make sure the code runs through. Select `Kernel` -> `Restart & Run All` to test it.\n",
    "Please strip the output from the cells, either select `Cell` -> `All Output` -> `Clear` or use the `nb_strip_output.py` script / git hook."
   ]
  },
  {
   "cell_type": "code",
   "execution_count": null,
   "metadata": {},
   "outputs": [],
   "source": [
    "# display the plots inside the notebook\n",
    "%matplotlib inline"
   ]
  },
  {
   "cell_type": "code",
   "execution_count": null,
   "metadata": {},
   "outputs": [],
   "source": [
    "import numpy as np\n",
    "import matplotlib.pyplot as plt\n",
    "import pylab\n",
    "import scipy.io.wavfile\n",
    "from skimage.data import astronaut\n",
    "from skimage.color import rgb2gray\n",
    "\n",
    "from __future__ import division\n",
    "import random\n",
    "try:\n",
    "    from StringIO import StringIO as BytesIO\n",
    "except ImportError:\n",
    "    from io import BytesIO\n",
    "    \n",
    "try:\n",
    "    import urllib.request as urllib2\n",
    "except ImportError:\n",
    "    import urllib2\n",
    "    \n",
    "    \n",
    "from numpy.fft import fft2 as numpy_fft2, ifft2 as numpy_ifft2\n",
    "from scipy.fftpack import dct\n",
    "from PIL import Image\n",
    "import itertools\n",
    "import IPython\n",
    "import zipfile\n",
    "pylab.rcParams['figure.figsize'] = (12, 12)   # This makes the plot bigger"
   ]
  },
  {
   "cell_type": "markdown",
   "metadata": {},
   "source": [
    "# Exercise 1 - Hadamard Matrix - 5 Points\n",
    "\n"
   ]
  },
  {
   "cell_type": "code",
   "execution_count": null,
   "metadata": {},
   "outputs": [],
   "source": [
    "def hadamard_matrix(n):\n",
    "    \"\"\"Returns the Hadamard matrix. N is a power of two.\"\"\"\n",
    "    # your code here\n",
    "    return np.zeros((n, n))\n",
    "\n",
    "plt.subplot(121)\n",
    "plt.imshow(hadamard_matrix(8), cmap='gray')\n",
    "plt.subplot(122)\n",
    "plt.imshow(hadamard_matrix(32), cmap='gray')\n",
    "plt.show()"
   ]
  },
  {
   "cell_type": "code",
   "execution_count": null,
   "metadata": {},
   "outputs": [],
   "source": [
    "def get_chess_board(n=8, field_size=8):\n",
    "    board = np.zeros((n*field_size, n*field_size))\n",
    "    s = field_size\n",
    "    for i in range(n):\n",
    "        for j in range(n):\n",
    "            if (i + j) % 2 == 0:\n",
    "                board[i*s:(i+1)*s, j*s:(j+1)*s] = 1\n",
    "    return board\n",
    "\n",
    "def get_sinus_board(n=8, field_size=8, shift=0):\n",
    "    img_size = n*field_size\n",
    "    linsp = np.linspace(-shift, np.pi*n - shift, img_size).reshape((img_size, 1))\n",
    "    return np.dot(np.sin(linsp), np.sin(linsp.T))\n",
    "\n"
   ]
  },
  {
   "cell_type": "code",
   "execution_count": null,
   "metadata": {},
   "outputs": [],
   "source": [
    "chess_board = get_chess_board()\n",
    "chess_board_roll = np.roll(np.roll(chess_board, 4, axis=0), 4, axis=1)\n",
    "sinus_board = get_sinus_board()\n",
    "sinus_board_roll = get_sinus_board(shift=4)\n",
    "plt.subplot(221)\n",
    "plt.imshow(chess_board, cmap='gray', interpolation='nearest')\n",
    "plt.subplot(222)\n",
    "plt.imshow(sinus_board, cmap='gray')\n",
    "plt.subplot(223)\n",
    "plt.imshow(chess_board_roll, cmap='gray', interpolation='nearest')\n",
    "plt.subplot(224)\n",
    "plt.imshow(sinus_board_roll, cmap='gray')\n",
    "plt.show()"
   ]
  },
  {
   "cell_type": "code",
   "execution_count": null,
   "metadata": {},
   "outputs": [],
   "source": [
    "# Plot the 2d hadamard transformation of the chess boards and sinus boards.\n",
    "# The 2D Hadamard Transformation can be computed similiar to the 2D DFT:\n",
    "# H * I * H, where I is the image, H is the hadamard-matrix and * is the matrix multiplication.\n",
    "\n",
    "H = hadamard_matrix(64)\n",
    "\n",
    "chess_board_H = chess_board                         # your code here\n",
    "chess_board_roll_H = chess_board_roll\n",
    "sinus_board_H = sinus_board\n",
    "sinus_board_roll_H = sinus_board_roll\n",
    "\n",
    "plt.subplot(221)\n",
    "plt.imshow(chess_board_H, cmap='gray', interpolation='nearest')\n",
    "plt.subplot(222)\n",
    "plt.imshow(sinus_board_H, cmap='gray')\n",
    "plt.subplot(223)\n",
    "plt.imshow(chess_board_roll_H, cmap='gray', interpolation='nearest')\n",
    "plt.subplot(224)\n",
    "plt.imshow(sinus_board_roll_H, cmap='gray')\n",
    "plt.show()"
   ]
  },
  {
   "cell_type": "code",
   "execution_count": null,
   "metadata": {},
   "outputs": [],
   "source": [
    "plt.imshow(np.dot(np.dot(H, chess_board_roll), H))\n",
    "\n",
    "# Plot the fourier transformation of chess boards and sinus boards. \n",
    "# You can use some functions from np.ftt\n",
    "chess_board_ft = chess_board                       # your code here\n",
    "chess_board_roll_ft = chess_board_roll \n",
    "sinus_board_ft = sinus_board\n",
    "sinus_board_roll_ft = sinus_board_roll\n",
    "\n",
    "plt.subplot(221)\n",
    "plt.imshow(chess_board_ft, cmap='gray', interpolation='nearest')\n",
    "plt.subplot(222)\n",
    "plt.imshow(sinus_board_ft, cmap='gray')\n",
    "plt.subplot(223)\n",
    "plt.imshow(chess_board_roll_ft, cmap='gray', interpolation='nearest')\n",
    "plt.subplot(224)\n",
    "plt.imshow(sinus_board_roll_ft, cmap='gray')\n",
    "plt.show()"
   ]
  },
  {
   "cell_type": "markdown",
   "metadata": {},
   "source": [
    "# Exercise 2 - Compare DCT with Discrete Hadamard Transformation - 5 Points"
   ]
  },
  {
   "cell_type": "markdown",
   "metadata": {
    "collapsed": true
   },
   "source": [
    "Load the astronaut image, make sure it has a resolution of 256*256 pixels. \n",
    "\n",
    "Transform with :\n",
    "\n",
    "a) DCT\n",
    "\n",
    "b) DiskreteWalshHadamardTransf\n",
    "\n",
    "Use different window sizes: 8x8, 32x32, 256x256. \n",
    "\n",
    "Erase **75 percent** of coefficents. \n",
    "\n",
    "Transform back into image space and calculate the average quadratic pixel error w.r.t. the original image. \n",
    "\n",
    "Make a table, which contains on top: DCT / DWalHadT and shows the error for WindowSize 8x8, 32x32, 256x256 \n",
    "for DCT and DWalHadT respectively."
   ]
  },
  {
   "cell_type": "code",
   "execution_count": null,
   "metadata": {},
   "outputs": [],
   "source": []
  }
 ],
 "metadata": {
  "kernelspec": {
   "display_name": "Python 3",
   "language": "python",
   "name": "python3"
  },
  "language_info": {
   "codemirror_mode": {
    "name": "ipython",
    "version": 3
   },
   "file_extension": ".py",
   "mimetype": "text/x-python",
   "name": "python",
   "nbconvert_exporter": "python",
   "pygments_lexer": "ipython3",
   "version": "3.5.2"
  }
 },
 "nbformat": 4,
 "nbformat_minor": 1
}
